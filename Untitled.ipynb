{
 "cells": [
  {
   "cell_type": "markdown",
   "id": "d6639de3-2fd0-4ae4-848f-4f8497387ea1",
   "metadata": {},
   "source": [
    "1. Write a python program to initialize a list with 10 names of your\n",
    "friends. Do the following :-\n",
    "a. Print the name at the first index.\n",
    "b. Print the name at the last index.\n",
    "c. Use slicing to print the names from the third to the fifth index.\n",
    "d. Use slicing to print the names in reverse order.\n",
    "e. Use slicing to print the names from eight to third."
   ]
  },
  {
   "cell_type": "code",
   "execution_count": null,
   "id": "debe8e97-e4d8-42b1-a98b-35fa3333963d",
   "metadata": {},
   "outputs": [],
   "source": []
  },
  {
   "cell_type": "markdown",
   "id": "607e7315-5ea4-4040-a000-7bfe9164744a",
   "metadata": {},
   "source": [
    "\n",
    "2. Create a tuple of 5 students. Do the following :-\r\n",
    "a. Display all the students.\r\n",
    "b. Add a new student.\r\n",
    "c. Delete a student.\r\n",
    "d. Use slicing to print students from the first index to third index.\r\n",
    "e. Modify the second index value. Can you modify it?"
   ]
  },
  {
   "cell_type": "code",
   "execution_count": 12,
   "id": "a70d81a1-c074-4c6a-838b-42d47a4e3f0b",
   "metadata": {},
   "outputs": [
    {
     "name": "stdout",
     "output_type": "stream",
     "text": [
      "('Khushi', 'Anshika', 'Dhruvi', 'Saina', 'Ritika', 'Shireen')\n"
     ]
    }
   ],
   "source": [
    "T1=(\"Khushi\",\"Anshika\",\"Dhruvi\",\"Saina\",\"Ritika\")\n",
    "T1=T1+(\"Shireen\",)\n",
    "print(T1)"
   ]
  },
  {
   "cell_type": "code",
   "execution_count": 13,
   "id": "0002aff8-3c31-43ac-a8df-548a0adecb26",
   "metadata": {},
   "outputs": [
    {
     "name": "stdout",
     "output_type": "stream",
     "text": [
      "('Khushi', 'Anshika', 'Dhruvi', 'Ritika', 'Shireen')\n"
     ]
    }
   ],
   "source": [
    "l1=list(T1)\n",
    "l1.remove(\"Saina\")\n",
    "T1=tuple(l1)\n",
    "print(T1)"
   ]
  },
  {
   "cell_type": "code",
   "execution_count": 14,
   "id": "ff188336-2bdf-42a9-8c5f-d1699676e8b5",
   "metadata": {},
   "outputs": [
    {
     "name": "stdout",
     "output_type": "stream",
     "text": [
      "('Khushi', 'Anshika', 'Dhruvi', 'Ritika')\n"
     ]
    }
   ],
   "source": [
    "print(T1[0:4:1])"
   ]
  },
  {
   "cell_type": "markdown",
   "id": "dae62157-a820-4de1-835f-36cfe6f7ea98",
   "metadata": {},
   "source": [
    "We cannot change values in tuple"
   ]
  },
  {
   "cell_type": "markdown",
   "id": "1f5b6602-8e9a-4de0-9574-fb43b52a30f6",
   "metadata": {},
   "source": [
    "3. Create a dictionary with key value as name and age. Do the\r\n",
    "following:-\r\n",
    "a. Display those students whose age is greater than 20.\r\n",
    "b. Add one more student with age 30.\r\n",
    "c. Display all the students using .items().\r\n",
    "d. Delete a student.\r\n",
    "e. Display the average age of all the students.\r"
   ]
  },
  {
   "cell_type": "code",
   "execution_count": 21,
   "id": "21b63232-c592-4c04-9814-8f32399acc99",
   "metadata": {},
   "outputs": [
    {
     "name": "stdout",
     "output_type": "stream",
     "text": [
      "{'Anshika': 65, 'Saina': 20, 'Shireen': 5}\n",
      "Anshika\n"
     ]
    }
   ],
   "source": [
    "D1={\"Anshika\":65,\"Saina\":20,\"Shireen\":5}\n",
    "print(D1)\n",
    "\n",
    "for name,age in D1.items():\n",
    "    if(age > 20):\n",
    "        print(name)\n",
    "    \n"
   ]
  },
  {
   "cell_type": "code",
   "execution_count": 23,
   "id": "a3b7338c-c919-4047-a5c8-81ff51cbb729",
   "metadata": {},
   "outputs": [
    {
     "name": "stdout",
     "output_type": "stream",
     "text": [
      "{'Anshika': 65, 'Saina': 20, 'Shireen': 5, 'Dhruvi': 30}\n"
     ]
    }
   ],
   "source": [
    "D1[\"Dhruvi\"]=30\n",
    "print(D1)"
   ]
  },
  {
   "cell_type": "code",
   "execution_count": 26,
   "id": "9ecaf1ea-1e07-41d1-b4a6-4fd6f29ded4f",
   "metadata": {},
   "outputs": [
    {
     "name": "stdout",
     "output_type": "stream",
     "text": [
      "Anshika   65\n",
      "Saina   20\n",
      "Shireen   5\n",
      "Dhruvi   30\n"
     ]
    }
   ],
   "source": [
    "for name,age in D1.items():\n",
    "    print(name,\" \",age)"
   ]
  },
  {
   "cell_type": "code",
   "execution_count": 28,
   "id": "50e220aa-0ef0-4bc9-8cdf-1bdc19fb9f22",
   "metadata": {},
   "outputs": [
    {
     "data": {
      "text/plain": [
       "65"
      ]
     },
     "execution_count": 28,
     "metadata": {},
     "output_type": "execute_result"
    }
   ],
   "source": [
    "D1.pop(\"Anshika\")"
   ]
  },
  {
   "cell_type": "code",
   "execution_count": 29,
   "id": "e80e37e4-3b09-426b-96d1-7ef16b9f7030",
   "metadata": {},
   "outputs": [
    {
     "name": "stdout",
     "output_type": "stream",
     "text": [
      "{'Saina': 20, 'Shireen': 5, 'Dhruvi': 30}\n"
     ]
    }
   ],
   "source": [
    "print(D1)"
   ]
  },
  {
   "cell_type": "code",
   "execution_count": 41,
   "id": "4c0a5dc0-3eac-4459-88ee-d450268c56fc",
   "metadata": {},
   "outputs": [
    {
     "name": "stdout",
     "output_type": "stream",
     "text": [
      "18\n"
     ]
    }
   ],
   "source": [
    "s=sum(D1.values())\n",
    "l=len(D1)\n",
    "if(l != 0):\n",
    "    print(int(s/l))\n",
    "else:\n",
    "    print(\"Size 0\");"
   ]
  },
  {
   "cell_type": "markdown",
   "id": "82e1dc8a-1cb8-43ab-bd2d-8827622ae651",
   "metadata": {},
   "source": [
    "4. Write a python program that takes in a list with numbers in it and\n",
    "prints out all the even numbers."
   ]
  },
  {
   "cell_type": "code",
   "execution_count": 49,
   "id": "0fa061d0-7405-4e42-a9a2-31333d3d47bd",
   "metadata": {},
   "outputs": [
    {
     "name": "stdout",
     "output_type": "stream",
     "text": [
      "2 4 6 8 10 "
     ]
    }
   ],
   "source": [
    "L2=[1,2,3,4,5,6,7,8,9,10]\n",
    "for i in L2:\n",
    "    if(i % 2 == 0):\n",
    "        print(i,end=\" \")"
   ]
  },
  {
   "cell_type": "markdown",
   "id": "d71c4c86-2215-4013-9519-1052b2d92e43",
   "metadata": {},
   "source": [
    "5. Write a python program to print all the duplicate elements in the list.\n"
   ]
  },
  {
   "cell_type": "code",
   "execution_count": 52,
   "id": "f9c929a8-fe73-477b-9d2e-b503a00a89ea",
   "metadata": {},
   "outputs": [
    {
     "name": "stdout",
     "output_type": "stream",
     "text": [
      "3\n",
      "4\n",
      "5\n"
     ]
    }
   ],
   "source": [
    "L3=[1,2,3,3,3,4,5,5,4]\n",
    "d3={}\n",
    "for i in L3:\n",
    "    if i in d3:\n",
    "        d3[i]=d3[i]+1;\n",
    "    else:\n",
    "        d3[i]=1;\n",
    "for key,value in d3.items():\n",
    "    if(value > 1):\n",
    "        print(key)"
   ]
  },
  {
   "cell_type": "markdown",
   "id": "e868aadc-269c-4248-af94-f858e37c1420",
   "metadata": {},
   "source": [
    "6. Write a python program to reverse a string."
   ]
  },
  {
   "cell_type": "code",
   "execution_count": 57,
   "id": "45c7aac4-1ea6-4af5-97b1-9b68b89e31a3",
   "metadata": {},
   "outputs": [
    {
     "name": "stdout",
     "output_type": "stream",
     "text": [
      "IHSUHk\n"
     ]
    }
   ],
   "source": [
    "str=\"kHUSHI\"\n",
    "str2='';\n",
    "str2=str2.join(reversed(str))\n",
    "print(str2)\n"
   ]
  },
  {
   "cell_type": "markdown",
   "id": "0410b7b2-8ec7-453f-b332-afd28ad27e8a",
   "metadata": {},
   "source": [
    "7. Write a python program to print fibonacci series till 5th term."
   ]
  },
  {
   "cell_type": "code",
   "execution_count": 60,
   "id": "1515a122-3c0d-4fcd-b55a-a5a40668c261",
   "metadata": {},
   "outputs": [
    {
     "name": "stdout",
     "output_type": "stream",
     "text": [
      "0 1 1 2 3 5 "
     ]
    }
   ],
   "source": [
    "a=0;\n",
    "b=1;\n",
    "print(a,end=\" \")\n",
    "print(b,end=\" \")\n",
    "s=0;\n",
    "for i in range(0,4):\n",
    "    s=a+b;\n",
    "    print(s,end=\" \")\n",
    "    a=b;\n",
    "    b=s;\n",
    "    \n"
   ]
  },
  {
   "cell_type": "markdown",
   "id": "f9b44f93-5e89-4024-b6a1-4e1f4b483662",
   "metadata": {},
   "source": [
    "Write a python program to read a txt file and replace the contents of\n",
    "the file with “Hi, I am currently pursuing my BTech from Jaypee.”"
   ]
  },
  {
   "cell_type": "code",
   "execution_count": 79,
   "id": "7dc4f262-c76d-4652-bcc1-19813c409bd7",
   "metadata": {},
   "outputs": [
    {
     "name": "stdout",
     "output_type": "stream",
     "text": [
      "khsuhi\n",
      "Hi, I am currently pursuing my BTech from Jaypee.\n"
     ]
    }
   ],
   "source": [
    "out=open('practice.txt','w')\n",
    "out.write(\"khsuhi\")\n",
    "out.close()\n",
    "inp=open('practice.txt','r')\n",
    "content=inp.read()\n",
    "inp.close()\n",
    "print(content)\n",
    "o=open('practice.txt','w')\n",
    "o.write(\"Hi, I am currently pursuing my BTech from Jaypee.\")\n",
    "o.close()\n",
    "i=open('practice.txt','r')\n",
    "content=i.read()\n",
    "print(content)\n",
    "inp.close()\n"
   ]
  },
  {
   "cell_type": "markdown",
   "id": "d7d94849-c580-4b72-a221-fd87a8c71bb0",
   "metadata": {},
   "source": [
    "9. Write a python program named ‘reverse.py’ to print lines of a file in\n",
    "reverse order."
   ]
  },
  {
   "cell_type": "code",
   "execution_count": 90,
   "id": "5107f808-efdc-4be5-9aea-dd43d6ef1d0b",
   "metadata": {},
   "outputs": [
    {
     "name": "stdout",
     "output_type": "stream",
     "text": [
      ". e e p y a J  m o r f  h c e T B  y m  g n i u s r u p  y l t n e r r u c  m a  I  , i H "
     ]
    }
   ],
   "source": [
    "out=open('practice.txt','w')\n",
    "out.writelines([\"Khushi\\n\",\"Anshika\\n\",\"Dhruvi\\n\",\"Saina\\n\",\"Ritika\\n\"])\n",
    "out.close()\n",
    "\n",
    "inp=open('practice.txt','r')\n",
    "cont=inp.readlines()\n",
    "for line in reversed(content):\n",
    "    print(line.strip(),end=\" \")"
   ]
  },
  {
   "cell_type": "code",
   "execution_count": null,
   "id": "ccc3f75d-aebd-42d9-9b8b-93fb7997354b",
   "metadata": {},
   "outputs": [],
   "source": []
  },
  {
   "cell_type": "code",
   "execution_count": null,
   "id": "7dc0c965-0b31-4a74-a6f4-cb21c43fba3b",
   "metadata": {},
   "outputs": [],
   "source": []
  },
  {
   "cell_type": "code",
   "execution_count": null,
   "id": "a7615f44-2d3f-407c-949c-cb9a576565c6",
   "metadata": {},
   "outputs": [],
   "source": []
  }
 ],
 "metadata": {
  "kernelspec": {
   "display_name": "Python 3 (ipykernel)",
   "language": "python",
   "name": "python3"
  },
  "language_info": {
   "codemirror_mode": {
    "name": "ipython",
    "version": 3
   },
   "file_extension": ".py",
   "mimetype": "text/x-python",
   "name": "python",
   "nbconvert_exporter": "python",
   "pygments_lexer": "ipython3",
   "version": "3.11.7"
  }
 },
 "nbformat": 4,
 "nbformat_minor": 5
}
