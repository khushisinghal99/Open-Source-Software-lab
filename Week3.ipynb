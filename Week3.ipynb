{
 "cells": [
  {
   "cell_type": "markdown",
   "id": "0aba9741",
   "metadata": {},
   "source": [
    "Q1"
   ]
  },
  {
   "cell_type": "code",
   "execution_count": 2,
   "id": "39dc7bea",
   "metadata": {},
   "outputs": [
    {
     "name": "stdout",
     "output_type": "stream",
     "text": [
      "Anshika\n",
      "Rakshita\n",
      "['Saina', 'Shireen']\n",
      "['Rakshita', 'Koena', 'Alaina', 'Saumya', 'Shagun', 'Shireen', 'Saina', 'Ritika', 'Khushi']\n",
      "['Koena', 'Alaina', 'Saumya', 'Shagun', 'Shireen']\n"
     ]
    }
   ],
   "source": [
    "l=[\"Anshika\",\"Khushi\",\"Ritika\",\"Saina\",\"Shireen\",\"Shagun\",\"Saumya\",\"Alaina\",\"Koena\",\"Rakshita\"]\n",
    "print(l[0])\n",
    "print(l[-1])\n",
    "print(l[3:5])\n",
    "print(l[9:0:-1])\n",
    "print(l[8:3:-1])"
   ]
  },
  {
   "cell_type": "markdown",
   "id": "e9dd8548",
   "metadata": {},
   "source": [
    "Q2"
   ]
  },
  {
   "cell_type": "code",
   "execution_count": 7,
   "id": "9a2cfb7b",
   "metadata": {},
   "outputs": [
    {
     "name": "stdout",
     "output_type": "stream",
     "text": [
      "('Anshika', 'Khushi', 'Ritika', 'Saina', 'Shireen')\n",
      "After Adding: ('Anshika', 'Khushi', 'Ritika', 'Saina', 'Shireen', 'Divyanshi')\n",
      "After deleting 2 index: ('Anshika', 'Khushi', 'Saina', 'Shireen', 'Divyanshi')\n",
      "Student from 1 to 3: ('Khushi', 'Saina')\n",
      "Trying to modify tuple will raise an error TypeError: 'tuple' object does not support item assignment \n"
     ]
    }
   ],
   "source": [
    "t=(\"Anshika\",\"Khushi\",\"Ritika\",\"Saina\",\"Shireen\")\n",
    "print(t)\n",
    "t=t+(\"Divyanshi\",)\n",
    "print(\"After Adding:\",t)\n",
    "t=t[:2]+t[3:]\n",
    "print(\"After deleting 2 index:\",t)\n",
    "print(\"Student from 1 to 3:\",t[1:3])\n",
    "print(\"Trying to modify tuple will raise an error TypeError: 'tuple' object does not support item assignment \")"
   ]
  },
  {
   "cell_type": "markdown",
   "id": "3286c6f9",
   "metadata": {},
   "source": [
    "Q3"
   ]
  },
  {
   "cell_type": "code",
   "execution_count": 8,
   "id": "cdad89bd",
   "metadata": {},
   "outputs": [
    {
     "name": "stdout",
     "output_type": "stream",
     "text": [
      "Students greater than 20:\n",
      "Anshika\n",
      "Ritika\n",
      "After adding Pakhi:\n",
      "{'Anshika': 30, 'Khushi': 20, 'Ritika': 25, 'Saina': 19, 'Shireen': 14, 'Pakhi': 30}\n",
      "Anshika: 30\n",
      "Khushi: 20\n",
      "Ritika: 25\n",
      "Saina: 19\n",
      "Shireen: 14\n",
      "Pakhi: 30\n",
      "After deleting Pakhi:\n",
      "{'Anshika': 30, 'Khushi': 20, 'Ritika': 25, 'Saina': 19, 'Shireen': 14}\n",
      "Average age:{avg.2f}\n"
     ]
    }
   ],
   "source": [
    "dict={\"Anshika\":30,\"Khushi\":20,\"Ritika\":25,\"Saina\":19,\"Shireen\":14}\n",
    "print(\"Students greater than 20:\")\n",
    "for name,age in dict.items():\n",
    "    if age>20:\n",
    "        print(name)\n",
    "dict[\"Pakhi\"]=30\n",
    "print(\"After adding Pakhi:\")\n",
    "print(dict)\n",
    "for name,age in dict.items():\n",
    "    print(f\"{name}: {age}\")\n",
    "del dict[\"Pakhi\"]\n",
    "print(\"After deleting Pakhi:\")\n",
    "print(dict)\n",
    "total=sum(dict.values())\n",
    "avg=total/len(dict)\n",
    "print(\"Average age:{avg.2f}\")\n"
   ]
  },
  {
   "cell_type": "markdown",
   "id": "5b47ed2c",
   "metadata": {},
   "source": [
    "Q4"
   ]
  },
  {
   "cell_type": "code",
   "execution_count": 9,
   "id": "17ebf7e0",
   "metadata": {},
   "outputs": [
    {
     "name": "stdout",
     "output_type": "stream",
     "text": [
      "2\n",
      "4\n",
      "6\n",
      "8\n"
     ]
    }
   ],
   "source": [
    "l=[1,2,3,4,5,6,7,8,9]\n",
    "for num in l:\n",
    "    if(num%2==0):\n",
    "        print(num)"
   ]
  },
  {
   "cell_type": "markdown",
   "id": "af518f59",
   "metadata": {},
   "source": [
    "Q5"
   ]
  },
  {
   "cell_type": "code",
   "execution_count": 10,
   "id": "09cefeae",
   "metadata": {},
   "outputs": [
    {
     "name": "stdout",
     "output_type": "stream",
     "text": [
      "[1, 2, 3]\n"
     ]
    }
   ],
   "source": [
    "def duplicate(numbers):\n",
    "    duplicates = []\n",
    "    seen = set()\n",
    "    \n",
    "    for num in numbers:\n",
    "        if num in seen and num not in duplicates:\n",
    "            duplicates.append(num)\n",
    "        seen.add(num)\n",
    "    \n",
    "    return duplicates\n",
    "l=[1,2,3,1,2,3,1,2,3,4]\n",
    "ans=duplicate(l)\n",
    "print(ans)"
   ]
  },
  {
   "cell_type": "markdown",
   "id": "53f8c36b",
   "metadata": {},
   "source": [
    "Q6"
   ]
  },
  {
   "cell_type": "code",
   "execution_count": 12,
   "id": "619f5bf0",
   "metadata": {},
   "outputs": [
    {
     "name": "stdout",
     "output_type": "stream",
     "text": [
      ".ivurhD ma I !olleH\n"
     ]
    }
   ],
   "source": [
    "s=\"Hello! I am Dhruvi.\"\n",
    "print(s[::-1])"
   ]
  },
  {
   "cell_type": "markdown",
   "id": "309d2088",
   "metadata": {},
   "source": [
    "Q7"
   ]
  },
  {
   "cell_type": "code",
   "execution_count": 13,
   "id": "e43af8bc",
   "metadata": {},
   "outputs": [
    {
     "name": "stdout",
     "output_type": "stream",
     "text": [
      "0 1 1 2 3 "
     ]
    }
   ],
   "source": [
    "a,b=0,1\n",
    "for i in range(0,5):\n",
    "    print(a,end=' ')\n",
    "    a,b=b,a+b\n",
    "    "
   ]
  },
  {
   "cell_type": "markdown",
   "id": "5ef56dbd",
   "metadata": {},
   "source": [
    "Q8"
   ]
  },
  {
   "cell_type": "code",
   "execution_count": 14,
   "id": "1cc8fd16",
   "metadata": {},
   "outputs": [
    {
     "name": "stdout",
     "output_type": "stream",
     "text": [
      "The contents of file have been replaced successfully.\n"
     ]
    }
   ],
   "source": [
    "\n",
    "with open(\"hello.txt\", \"w\") as file:\n",
    "    file.write(\"Hi, I am currently pursuing my BTech from Jaypee.\")\n",
    "\n",
    "print(f\"The contents of file have been replaced successfully.\")\n"
   ]
  },
  {
   "cell_type": "markdown",
   "id": "b25c3f4c",
   "metadata": {},
   "source": [
    "Q9"
   ]
  },
  {
   "cell_type": "code",
   "execution_count": 15,
   "id": "099b0bfb",
   "metadata": {},
   "outputs": [
    {
     "name": "stdout",
     "output_type": "stream",
     "text": [
      ".eepyaJ morf hceTB ym gniusrup yltnerruc ma I ,iH\n"
     ]
    }
   ],
   "source": [
    "with open(\"hello.txt\", 'r') as file:\n",
    "    lines = file.readlines()\n",
    "    for line in reversed(lines):\n",
    "        print(line.strip()[::-1])"
   ]
  },
  {
   "cell_type": "markdown",
   "id": "9f23ac98",
   "metadata": {},
   "source": [
    "Q10"
   ]
  },
  {
   "cell_type": "code",
   "execution_count": 16,
   "id": "51d3d21c",
   "metadata": {},
   "outputs": [
    {
     "name": "stdout",
     "output_type": "stream",
     "text": [
      "[1, 3, 5, 7, 9]\n"
     ]
    }
   ],
   "source": [
    "numbers=[1,2,3,4,5,6,7,8,9]\n",
    "odd_numbers = [num for num in numbers if num % 2 != 0]\n",
    "print(odd_numbers)\n"
   ]
  },
  {
   "cell_type": "markdown",
   "id": "2d056d59",
   "metadata": {},
   "source": [
    "Q11"
   ]
  },
  {
   "cell_type": "code",
   "execution_count": 18,
   "id": "443d00e9",
   "metadata": {},
   "outputs": [
    {
     "name": "stdout",
     "output_type": "stream",
     "text": [
      "Number of characters are 49\n"
     ]
    }
   ],
   "source": [
    "with open(\"hello.txt\", \"r\") as file:\n",
    "    content = file.read()\n",
    "    char_count = len(content)\n",
    "print(\"Number of characters are\",char_count)"
   ]
  },
  {
   "cell_type": "markdown",
   "id": "7f88409e",
   "metadata": {},
   "source": [
    "Q12"
   ]
  },
  {
   "cell_type": "code",
   "execution_count": null,
   "id": "e81036d8",
   "metadata": {},
   "outputs": [
    {
     "name": "stdout",
     "output_type": "stream",
     "text": [
      "Anagrams in ['eat', 'ate', 'done', 'tea', 'soup', 'node', 'tan', 'nat']:\n",
      "[['eat', 'ate', 'tea'], ['done', 'node'], ['tan', 'nat']]\n"
     ]
    }
   ],
   "source": [
    "from collections import defaultdict\n",
    "\n",
    "def find_anagrams(words):\n",
    "  \"\"\"\n",
    "  Finds and groups anagrams in a given list of words.\n",
    "  \"\"\"\n",
    "  anagram_map = defaultdict(list)\n",
    "  for word in words:\n",
    "    sorted_word = \"\".join(sorted(word))\n",
    "    anagram_map[sorted_word].append(word)\n",
    "\n",
    "  return [group for group in anagram_map.values() if len(group) > 1]\n",
    "\n",
    "word_list = ['eat', 'ate', 'done', 'tea', 'soup', 'node', 'tan', 'nat']\n",
    "anagram_groups = find_anagrams(word_list)\n",
    "print(f\"Anagrams in {word_list}:\")\n",
    "print(anagram_groups)"
   ]
  }
 ],
 "metadata": {
  "kernelspec": {
   "display_name": "Python 3",
   "language": "python",
   "name": "python3"
  },
  "language_info": {
   "codemirror_mode": {
    "name": "ipython",
    "version": 3
   },
   "file_extension": ".py",
   "mimetype": "text/x-python",
   "name": "python",
   "nbconvert_exporter": "python",
   "pygments_lexer": "ipython3",
   "version": "3.13.1"
  }
 },
 "nbformat": 4,
 "nbformat_minor": 5
}
